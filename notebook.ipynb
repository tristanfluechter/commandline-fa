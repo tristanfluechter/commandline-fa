{
 "cells": [
  {
   "cell_type": "code",
   "execution_count": null,
   "metadata": {},
   "outputs": [],
   "source": [
    "import pandas as pd\n",
    "import matplotlib.pyplot as plt\n",
    "import pandas_datareader as data\n",
    "from yahoo_fin import stock_info as si"
   ]
  },
  {
   "cell_type": "code",
   "execution_count": null,
   "metadata": {},
   "outputs": [],
   "source": [
    "def get_yahoo_data():\n",
    "    \"\"\"\n",
    "    This function gets Yahoo Finance Data based on a stock ticker and a given \n",
    "    time-frame and then saves that data as a Pandas Dataframe.\n",
    "    \"\"\"\n",
    "    \n",
    "    # Ask for user input\n",
    "    while True:\n",
    "        try:\n",
    "            stock_ticker = str(input(\"Please enter the stock ticker of the stock you want to analyze: \"))\n",
    "            start_date = str(input(\"Please enter a start date for stock analysis (YYYY-DD-MM): \"))\n",
    "            end_date = str(input(\"Please enter an end date for stock analysis (YYYY-MM-DD): \"))\n",
    "            # Create dataframe with DataReader module\n",
    "            stock_data = data.DataReader(stock_ticker, \"yahoo\", start_date, end_date)\n",
    "            break\n",
    "        \n",
    "        except:\n",
    "            print(\"Invalid format for either stock ticker or dates - please try again and ensure correct format.\")\n",
    "    \n",
    "    \n",
    "    print(f\"Successfully imported stock data for ticker {stock_ticker} from {start_date} to {end_date}.\")\n",
    "    \n",
    "    return stock_data, stock_ticker, start_date, end_date"
   ]
  },
  {
   "cell_type": "code",
   "execution_count": null,
   "metadata": {},
   "outputs": [],
   "source": [
    "stock_data, stock_ticker, start_date, end_date = get_yahoo_data()"
   ]
  },
  {
   "cell_type": "code",
   "execution_count": null,
   "metadata": {},
   "outputs": [],
   "source": [
    "len(stock_data)"
   ]
  },
  {
   "cell_type": "code",
   "execution_count": null,
   "metadata": {},
   "outputs": [],
   "source": [
    "stock_data.head()"
   ]
  },
  {
   "cell_type": "code",
   "execution_count": null,
   "metadata": {},
   "outputs": [],
   "source": [
    "import datetime as dt\n",
    "n = stock_data.index[-1]\n",
    "print(n)\n",
    "\n",
    "lr_target_date = str(input(\"Please enter your target date you want to predict the price for (YYYY-MM-DD): \"))\n",
    "        \n",
    "# Check if date later than the dataframe date or if in the future\n",
    "if dt.datetime.strptime(lr_target_date, '%Y-%m-%d').date() < stock_data.index[-1]:\n",
    "    print(\"not in the past!\")\n",
    "else:\n",
    "    print(\"correct\")"
   ]
  },
  {
   "cell_type": "code",
   "execution_count": null,
   "metadata": {},
   "outputs": [],
   "source": [
    "while True:\n",
    "    try:\n",
    "        lr_days = int(input(\"How many past days do you want to consider for the linear regression? (integer) \"))\n",
    "            \n",
    "        # Check if number of days is between end and start date\n",
    "        if stock_data.tail(lr_days)\n",
    "            \n",
    "        break\n",
    "    \n",
    "    except:\n",
    "        print(\"Invalid input. Please enter your desired days as an integer. Desired days cannot exceed the data time period.\")"
   ]
  },
  {
   "cell_type": "code",
   "execution_count": null,
   "metadata": {},
   "outputs": [],
   "source": [
    "stock_data.head()"
   ]
  },
  {
   "cell_type": "code",
   "execution_count": null,
   "metadata": {},
   "outputs": [],
   "source": [
    "stock_data.describe()"
   ]
  },
  {
   "cell_type": "code",
   "execution_count": null,
   "metadata": {},
   "outputs": [],
   "source": [
    "def show_stock_price(ticker):\n",
    "    \"\"\"\n",
    "    A program that returns the current stock price.\n",
    "    \"\"\"\n",
    "    current_stock_price = si.get_live_price(ticker).round(2)\n",
    "    print(f\"Current stock price: {current_stock_price} USD\")\n",
    "    return current_stock_price"
   ]
  },
  {
   "cell_type": "code",
   "execution_count": null,
   "metadata": {},
   "outputs": [],
   "source": [
    "show_stock_price(stock_ticker)"
   ]
  },
  {
   "cell_type": "code",
   "execution_count": null,
   "metadata": {},
   "outputs": [],
   "source": [
    "stock_data.describe().Close[\"mean\"]"
   ]
  },
  {
   "cell_type": "code",
   "execution_count": null,
   "metadata": {},
   "outputs": [],
   "source": [
    "descriptive_df = stock_data.describe().Close"
   ]
  },
  {
   "cell_type": "code",
   "execution_count": null,
   "metadata": {},
   "outputs": [],
   "source": [
    "descriptive_df['mean']"
   ]
  },
  {
   "cell_type": "code",
   "execution_count": null,
   "metadata": {},
   "outputs": [],
   "source": [
    "descriptive_df['25%']"
   ]
  },
  {
   "cell_type": "code",
   "execution_count": null,
   "metadata": {},
   "outputs": [],
   "source": [
    "descriptive_df['std']"
   ]
  },
  {
   "cell_type": "code",
   "execution_count": null,
   "metadata": {},
   "outputs": [],
   "source": [
    "def describe_stock_data(stockdata, ticker):\n",
    "    \"\"\"\n",
    "    A program that describes the stock data, \n",
    "    providing basic descriptive statistics.\n",
    "    \"\"\"\n",
    "    \n",
    "    # Save new dataframe for descriptive statistics\n",
    "    descriptive_df = stockdata.describe().Close\n",
    "    \n",
    "    # Get descriptive variables through indexing\n",
    "    stock_des_mean = descriptive_df['mean'].round(2)\n",
    "    stock_des_quart1 = descriptive_df['25%'].round(2)\n",
    "    stock_des_quart2 = descriptive_df['50%'].round(2)\n",
    "    stock_des_quart3 = descriptive_df['75%'].round(2)\n",
    "    stock_des_stddev = descriptive_df['std'].round(2)\n",
    "    stock_des_range = (stock_des_quart3 - stock_des_quart1).round(2)\n",
    "    stock_des_var_coefficient = ((stock_des_stddev / stock_des_mean) * 100).round(2)\n",
    "    \n",
    "    # Print out / return?\n",
    "    print(f\"The mean closing price of stock {ticker} is {stock_des_mean}.\")\n",
    "    print(f\"The first quartile of stock {ticker}'s closing price is {stock_des_quart1}.\")\n",
    "    print(f\"The second quartile of stock {ticker}'s closing price is {stock_des_quart2}.\")\n",
    "    print(f\"The third quartile of stock {ticker}'s closing price is {stock_des_quart3}.\")\n",
    "    print(f\"That means the range is equal to {stock_des_range}.\")\n",
    "    print(f\"The stock's closing price shows a standard deviation of {stock_des_stddev} and a variation coefficient of {stock_des_var_coefficient}\")"
   ]
  },
  {
   "cell_type": "code",
   "execution_count": null,
   "metadata": {},
   "outputs": [],
   "source": [
    "describe_stock_data(stock_data, stock_ticker)"
   ]
  },
  {
   "cell_type": "code",
   "execution_count": null,
   "metadata": {},
   "outputs": [],
   "source": [
    "def plot_ma(stockdata, ticker, startdate, enddate):\n",
    "    \"\"\"\n",
    "    A program that plots the ticker data over the given timeframe\n",
    "    and provides moving averages based on user input.\n",
    "\n",
    "    Args:\n",
    "        stockdata: Defaults to stock_data from data_importer.py\n",
    "    \"\"\"\n",
    "    \n",
    "    # Define moving averages to plot\n",
    "    while True:\n",
    "        try:    \n",
    "            ma1_input = int(input(\"Please state a first moving average to plot (in days): \"))\n",
    "            ma2_input = int(input(\"Please state a second moving average to plot (in days): \"))\n",
    "            break\n",
    "        except: \n",
    "            print(\"Invalid input. Please state the desired moving average in days.\")\n",
    "    \n",
    "    # Create matplotlib plot object        \n",
    "    fig = plt.figure(figsize=(12,6))\n",
    "    \n",
    "    # Plot closing prices\n",
    "    plt.plot(stockdata.Close, label=\"Closing Price\")\n",
    "    \n",
    "    # Plot moving averages\n",
    "    ma1 = stockdata.Close.rolling(ma1_input).mean()\n",
    "    ma2 = stockdata.Close.rolling(ma2_input).mean()\n",
    "    \n",
    "    plt.plot(ma1, \"g\", label=f\"Moving Average: {ma1_input} days.\") # Plot first MA in green\n",
    "    plt.plot(ma2, \"r\", label=f\"Moving Average: {ma2_input} days.\") # Plot second MA in red\n",
    "    \n",
    "    # Give description to axes / values\n",
    "    plt.xlabel('Date')\n",
    "    plt.ylabel('Closing Price in USD')\n",
    "    plt.title(f\"Closing price of {ticker} from {startdate} to {enddate}.\")\n",
    "    plt.legend(loc=\"upper left\")\n",
    "    \n",
    "    # Show graph\n",
    "    plt.show()"
   ]
  },
  {
   "cell_type": "code",
   "execution_count": null,
   "metadata": {},
   "outputs": [],
   "source": [
    "plot_ma(stock_data, stock_ticker, start_date, end_date)"
   ]
  },
  {
   "cell_type": "code",
   "execution_count": null,
   "metadata": {},
   "outputs": [],
   "source": [
    "import matplotlib.dates as mdates\n",
    "import numpy as np\n",
    "\n",
    "def plot_trendline(stockdata, ticker, startdate, enddate):\n",
    "    \"\"\"\n",
    "    A program that plots the ticker data over the given timeframe\n",
    "    and provides a linear trendline.\n",
    "\n",
    "    Args:\n",
    "        stockdata: Defaults to stock_data from data_importer.py\n",
    "    \"\"\"\n",
    "    # Create matplotlib plot object        \n",
    "    fig = plt.figure(figsize=(12,6))\n",
    "    \n",
    "    # Plot closing prices\n",
    "    plt.plot(stockdata.Close, label=\"Closing Price\")\n",
    "    \n",
    "    # Convert Date Axis to numerical for trend line\n",
    "    numeric_dates = mdates.date2num(stockdata.index)\n",
    "    \n",
    "    # Create and plot trend line\n",
    "    fitted_data = np.polyfit(numeric_dates, stockdata.Close, 1)\n",
    "    trend_curve = np.poly1d(fitted_data)\n",
    "    \n",
    "    plt.plot(numeric_dates, trend_curve(numeric_dates), \"y--\", label=\"Trend Line\")\n",
    "    \n",
    "    # Name axes and add legend\n",
    "    plt.xlabel('Date')\n",
    "    plt.ylabel('Closing Price in USD')\n",
    "    plt.title(f\"Closing price of {ticker} from {startdate} to {enddate}.\")\n",
    "    plt.legend(loc=\"upper left\")"
   ]
  },
  {
   "cell_type": "code",
   "execution_count": null,
   "metadata": {},
   "outputs": [],
   "source": [
    "plot_trendline(stock_data, stock_ticker, start_date, end_date)"
   ]
  },
  {
   "cell_type": "code",
   "execution_count": null,
   "metadata": {},
   "outputs": [],
   "source": [
    "from yahoo_fin import stock_info as si\n",
    "import pandas as pd\n",
    "import matplotlib.pyplot as plt\n",
    "import matplotlib.dates as mdates\n",
    "import numpy as np\n",
    "import pandas_ta as ta\n",
    "import plotly.graph_objects as go\n",
    "from plotly.subplots import make_subplots"
   ]
  },
  {
   "cell_type": "code",
   "execution_count": null,
   "metadata": {},
   "outputs": [],
   "source": [
    "def plot_macd(stockdata, ticker, startdate, enddate):\n",
    "    \"\"\"\n",
    "    Code credit: https://www.alpharithms.com/calculate-macd-python-272222/\n",
    "    This program plots the price chart combined with a moving average convergence / divergence.\n",
    "    \"\"\"\n",
    "    # Calculate MACD values\n",
    "    stockdata.ta.macd(close='Close', fast=12, slow=26, append=True)\n",
    "    \n",
    "    # Generate plot object\n",
    "    fig = make_subplots(rows=2, cols=1, subplot_titles=[f\"Candlechart: Ticker {ticker} over time.\", \"MACD\"],)\n",
    "    \n",
    "    # Price Line\n",
    "    fig.append_trace(go.Scatter(x=stockdata.index, y=stockdata['Open'],line=dict(color='black', width=1),\n",
    "        name='Open', legendgroup='1',), row=1, col=1)\n",
    "\n",
    "    # Candlestick chart for pricing\n",
    "    fig.append_trace(go.Candlestick(x=stockdata.index, open=stockdata['Open'], high=stockdata['High'], low=stockdata['Low'],\n",
    "        close=stockdata['Close'], increasing_line_color='green', decreasing_line_color='red', showlegend=False), \n",
    "        row=1, col=1)\n",
    "    \n",
    "    # Fast Signal (%k)\n",
    "    fig.append_trace(go.Scatter(\n",
    "        x=stockdata.index,\n",
    "        y=stockdata['MACD_12_26_9'],\n",
    "        line=dict(color='Blue', width=2),\n",
    "        name='MACD',\n",
    "        # showlegend=False,\n",
    "        legendgroup='2',), row=2, col=1)\n",
    "    \n",
    "    # Slow signal (%d)\n",
    "    fig.append_trace(go.Scatter(\n",
    "        x=stockdata.index,\n",
    "        y=stockdata['MACDs_12_26_9'],\n",
    "        line=dict(color='Orange', width=2),\n",
    "        # showlegend=False,\n",
    "        legendgroup='2',\n",
    "        name='Signal'), row=2, col=1)\n",
    "    \n",
    "    # Colorize the data\n",
    "    colors = np.where(stockdata['MACDh_12_26_9'] < 0, 'red', 'green')\n",
    "    \n",
    "    fig.append_trace(go.Bar(x=stockdata.index, y=stockdata['MACDh_12_26_9'], name='Histogram', marker_color=colors), row=2, col=1)\n",
    "    \n",
    "    # Make it pretty\n",
    "    layout = go.Layout(font_size=14, xaxis=dict(rangeslider=dict(visible=False)))\n",
    "    \n",
    "    # Update options and show plot\n",
    "    fig.update_layout(layout)\n",
    "    fig.show() \n",
    "    \n",
    "    \n",
    "    "
   ]
  },
  {
   "cell_type": "code",
   "execution_count": null,
   "metadata": {},
   "outputs": [],
   "source": [
    "plot_macd(stock_data, stock_ticker, start_date, end_date)"
   ]
  },
  {
   "cell_type": "code",
   "execution_count": null,
   "metadata": {},
   "outputs": [],
   "source": [
    "stock_data.head()"
   ]
  },
  {
   "cell_type": "code",
   "execution_count": null,
   "metadata": {},
   "outputs": [],
   "source": []
  },
  {
   "cell_type": "code",
   "execution_count": null,
   "metadata": {},
   "outputs": [],
   "source": [
    "ma_weights"
   ]
  },
  {
   "cell_type": "code",
   "execution_count": null,
   "metadata": {},
   "outputs": [],
   "source": [
    "stock_data.head()"
   ]
  },
  {
   "cell_type": "code",
   "execution_count": null,
   "metadata": {},
   "outputs": [],
   "source": [
    "import numpy as np\n",
    "import matplotlib.pyplot as plt  # To visualize\n",
    "import pandas as pd  # To read data\n",
    "from sklearn.linear_model import LinearRegression\n",
    "import datetime as dt\n",
    "import statsmodels.api as sm"
   ]
  },
  {
   "cell_type": "code",
   "execution_count": null,
   "metadata": {},
   "outputs": [],
   "source": [
    "new_df = stock_data.tail(80)"
   ]
  },
  {
   "cell_type": "code",
   "execution_count": null,
   "metadata": {},
   "outputs": [],
   "source": [
    "new_df"
   ]
  },
  {
   "cell_type": "code",
   "execution_count": null,
   "metadata": {},
   "outputs": [],
   "source": [
    "# Change datetime to numerical for linear regression and define X & Y\n",
    "lr_X = np.asarray(new_df.index.map(dt.datetime.toordinal))\n",
    "lr_Y = np.asarray(new_df.Close)\n",
    "        \n",
    "# Reshape Data into Numpy Array\n",
    "lr_X = lr_X.reshape(-1,1)\n",
    "r_Y = lr_Y.reshape(-1,1)\n",
    "\n",
    "# Create statsmodels LR object and add lr_X\n",
    "x = sm.add_constant(lr_X)\n",
    "        \n",
    "# Predict Results\n",
    "results = sm.OLS(lr_Y,x).fit()\n",
    "        \n",
    "# Give summary of linear regression\n",
    "results.summary()"
   ]
  },
  {
   "cell_type": "code",
   "execution_count": null,
   "metadata": {},
   "outputs": [],
   "source": [
    "results.summary2().tables[0][3][0]"
   ]
  },
  {
   "cell_type": "code",
   "execution_count": null,
   "metadata": {},
   "outputs": [],
   "source": [
    "results.summary2().tables[1][\"Coef.\"]"
   ]
  },
  {
   "cell_type": "code",
   "execution_count": null,
   "metadata": {},
   "outputs": [],
   "source": [
    "lr_slope = results.summary2().tables[1][\"Coef.\"][1] # to get slope coefficient\n",
    "lr_intercept = results.summary2().tables[1][\"Coef.\"][0] # to get slope coefficient"
   ]
  },
  {
   "cell_type": "code",
   "execution_count": null,
   "metadata": {},
   "outputs": [],
   "source": [
    "lr_line = lr_X * lr_slope + lr_intercept"
   ]
  },
  {
   "cell_type": "code",
   "execution_count": null,
   "metadata": {},
   "outputs": [],
   "source": [
    "# Make a prediction for a given day and visualize it\n",
    "sample_date = \"2021-12-20\"\n",
    "\n",
    "d = datetime.datetime.strptime(sample_date, '%Y-%m-%d').date()\n",
    "\n",
    "d = d.toordinal()\n",
    "d\n",
    "\n",
    "lr_X = np.append(lr_X, d)\n",
    "lr_Y = np.append(lr_Y, (d*lr_slope + lr_intercept))\n",
    "\n",
    "print(lr_Y.shape)\n",
    "print(lr_X.shape)"
   ]
  },
  {
   "cell_type": "code",
   "execution_count": null,
   "metadata": {},
   "outputs": [],
   "source": [
    "lr_X.shape[0]"
   ]
  },
  {
   "cell_type": "code",
   "execution_count": null,
   "metadata": {},
   "outputs": [],
   "source": [
    "import datetime\n",
    "import numpy as np\n",
    "\n",
    "new = lr_X.reshape(1, 81)\n",
    "\n",
    "l = new[0].tolist()\n",
    "\n",
    "dates = []\n",
    "\n",
    "for number in l:\n",
    "    newnum = datetime.date.fromordinal(number)\n",
    "    dates.append(newnum)\n",
    "\n",
    "lr_line = lr_X * lr_slope + lr_intercept\n",
    "\n",
    "len(dates)\n"
   ]
  },
  {
   "cell_type": "code",
   "execution_count": null,
   "metadata": {},
   "outputs": [],
   "source": [
    "import matplotlib.pyplot as plt\n",
    "fig = plt.figure(figsize = (12,6))\n",
    "\n",
    "plt.plot(dates[:-2], lr_line[:-2], color='red', label=\"Regression Line\")\n",
    "plt.plot(dates[-2:], lr_line[-2:], color='red', linestyle=\"dotted\", label=\"Regression Line Prediction\")\n",
    "plt.scatter(dates, lr_Y)\n",
    "plt.locator_params(axis='y', nbins=10)\n",
    "\n",
    "# plt.xlim([dates[1], dates[-1]])\n",
    "\n",
    "\n",
    "plt.title(f\"Linear Regression for stock.\")\n",
    "plt.legend(loc=\"upper left\")\n",
    "plt.text(dates[-1],(lr_line[-1]+1), \"Predicted Date\",ha='center')\n",
    "plt.show()"
   ]
  },
  {
   "cell_type": "code",
   "execution_count": null,
   "metadata": {},
   "outputs": [],
   "source": [
    "help(plt.text)"
   ]
  },
  {
   "cell_type": "code",
   "execution_count": null,
   "metadata": {},
   "outputs": [],
   "source": [
    "# html parser\n",
    "from bs4 import BeautifulSoup\n",
    "# web scraper\n",
    "import requests\n",
    "# regex to search for strings on sites\n",
    "import re"
   ]
  },
  {
   "cell_type": "code",
   "execution_count": null,
   "metadata": {},
   "outputs": [],
   "source": [
    "URL = f\"https://money.cnn.com/quote/forecast/forecast.html?symb=AAPL\"\n",
    "page = requests.get(URL)\n",
    "\n",
    "# Parse the website with beautifulsoup\n",
    "soup = BeautifulSoup(page.content, \"html.parser\")"
   ]
  },
  {
   "cell_type": "code",
   "execution_count": null,
   "metadata": {},
   "outputs": [],
   "source": [
    "#<span class=\"Trsdu(0.3s) Fw(500) Pstart(10px) Fz(24px) C($negativeColor)\" data-reactid=\"30\">-2.89 (-1.92%)</span>\n",
    "    \n",
    "td_change_intraday = soup.body.find_all('span', {'data-reactid':\"30\"}) \n",
    "td_change_intraday"
   ]
  },
  {
   "cell_type": "code",
   "execution_count": null,
   "metadata": {},
   "outputs": [],
   "source": [
    "mytuple = (1,2,3,4)\n",
    "\n",
    "a = mytuple"
   ]
  },
  {
   "cell_type": "code",
   "execution_count": null,
   "metadata": {},
   "outputs": [],
   "source": [
    "a"
   ]
  },
  {
   "cell_type": "code",
   "execution_count": null,
   "metadata": {},
   "outputs": [],
   "source": [
    "new_df"
   ]
  },
  {
   "cell_type": "code",
   "execution_count": null,
   "metadata": {},
   "outputs": [],
   "source": [
    "stock_data"
   ]
  },
  {
   "cell_type": "code",
   "execution_count": null,
   "metadata": {},
   "outputs": [],
   "source": [
    "from bs4 import BeautifulSoup\n",
    "# web scraper\n",
    "import requests\n",
    "# regex to search for strings on sites\n",
    "import re"
   ]
  },
  {
   "cell_type": "code",
   "execution_count": null,
   "metadata": {},
   "outputs": [],
   "source": [
    "URL = f\"https://money.cnn.com/quote/forecast/forecast.html?symb=AAPL\"\n",
    "page = requests.get(URL)\n",
    "\n",
    "# Parse the website with beautifulsoup\n",
    "soup = BeautifulSoup(page.content, \"html.parser\")\n",
    "\n",
    "soup"
   ]
  },
  {
   "cell_type": "code",
   "execution_count": null,
   "metadata": {},
   "outputs": [],
   "source": []
  },
  {
   "cell_type": "code",
   "execution_count": null,
   "metadata": {},
   "outputs": [],
   "source": [
    "# Get the Market Watch website for a given stock ticker\n",
    "URL = f\"https://finance.yahoo.com/quote/AAPL\"\n",
    "page = requests.get(URL)\n",
    "\n",
    "# Parse the website with beautifulsoup\n",
    "soup = BeautifulSoup(page.content, \"html.parser\")"
   ]
  },
  {
   "cell_type": "code",
   "execution_count": null,
   "metadata": {},
   "outputs": [],
   "source": [
    "# <span class=\"Trsdu(0.3s) Fw(500) Pstart(10px) Fz(24px) C($positiveColor)\" data-reactid=\"30\">+0.46 (+0.31%)</span>\n",
    "# <div class=\"D(ib) Mend(20px)\" data-reactid=\"28\"><span class=\"Trsdu(0.3s) Fw(b) Fz(36px) Mb(-4px) D(ib)\" data-reactid=\"29\">148.42</span><span class=\"Trsdu(0.3s) Fw(500) Pstart(10px) Fz(24px) C($positiveColor)\" data-reactid=\"30\">+0.50 (+0.34%)</span><div id=\"quote-market-notice\" class=\"C($tertiaryColor) D(b) Fz(12px) Fw(n) Mstart(0)--mobpsm Mt(6px)--mobpsm\" data-reactid=\"31\"><span data-reactid=\"32\">As of  10:28AM EST. Market open.</span></div></div>"
   ]
  },
  {
   "cell_type": "code",
   "execution_count": null,
   "metadata": {},
   "outputs": [],
   "source": [
    "td_change_intraday = soup.body.find_all('div', {'class':[\"D(ib) Mend(20px) data-reactid=28\"]}) \n",
    "td_change_intraday"
   ]
  },
  {
   "cell_type": "code",
   "execution_count": null,
   "metadata": {},
   "outputs": [],
   "source": [
    "URL = f\"https://finance.yahoo.com/quote/TSLA\"\n",
    "page = requests.get(URL)\n",
    "\n",
    "# Parse the website with beautifulsoup\n",
    "soup = BeautifulSoup(page.content, \"html.parser\")"
   ]
  },
  {
   "cell_type": "code",
   "execution_count": null,
   "metadata": {},
   "outputs": [],
   "source": [
    "eps = soup.body.find_all(\"td\", {'data-test':\"PE_RATIO-value\"})\n",
    "actual_eps = re.findall(\"\\d+\\.\\d+\", str(eps[0]))[1]\n",
    "actual_eps"
   ]
  },
  {
   "cell_type": "code",
   "execution_count": null,
   "metadata": {},
   "outputs": [],
   "source": [
    "number_of_days = 0\n",
    "\n",
    "while True:\n",
    "    \n",
    "    try:\n",
    "        number_of_days = int(input(\"How many days for your custom weighted average? (up to 20 days) \"))\n",
    "\n",
    "        if number_of_days <= 20:\n",
    "            \n",
    "            print(\"Number of days: \", number_of_days)\n",
    "            \n",
    "            while True:      \n",
    "            # Define empty list and weight index for user input\n",
    "                weights_for_ma = []\n",
    "                weight_index = 1\n",
    "        \n",
    "                # Iterate through the user-stated days\n",
    "                for number in range(number_of_days):\n",
    "                    \n",
    "                    # Check for each user-input number that it is a float.\n",
    "                    while True:\n",
    "                        try:\n",
    "                            # If wrong, user needs to re-enter the float.\n",
    "                            input_weight = float(input(f\"Please enter weight #{weight_index}.\"))\n",
    "                                \n",
    "                            if input_weight >= 0:\n",
    "                                weights_for_ma.append(input_weight)\n",
    "                                weight_index += 1\n",
    "                                print(f\"Current total amount of weights: {sum(weights_for_ma)}\")\n",
    "                                break # breaks out of innermost while loop and user can input the next number.\n",
    "                                    \n",
    "                            else:\n",
    "                                print(\"Invalid input. Entered float must be positive.\")\n",
    "                                \n",
    "                        except:\n",
    "                            print(\"Invalid input. Please input your weight as a float number.\")\n",
    "\n",
    "                if int(sum(weights_for_ma)) == 1:\n",
    "                    print(\"Nice. Seems to be equal to 1!\")\n",
    "                    break\n",
    "                \n",
    "                else:\n",
    "                    weights_for_ma = []\n",
    "                    weight_index = 1\n",
    "                    print(\"Sum of weights must be equal to 1. Please re-enter your weights.\")\n",
    "              \n",
    "            break # Input fits our further procedure!\n",
    "            \n",
    "        else:\n",
    "            print(\"Invalid input. Please input less or equal to 20 and larger than 1.\") # Try again\n",
    "    \n",
    "    except:\n",
    "        print(\"(1) Invalid input. Please input the number of days as an integer.\")"
   ]
  },
  {
   "cell_type": "code",
   "execution_count": null,
   "metadata": {},
   "outputs": [],
   "source": [
    "number_of_days = 0\n",
    "\n",
    "while True:\n",
    "    \n",
    "    try:\n",
    "        number_of_days = int(input(\"How many days for your custom weighted average? (up to 20 days) \"))\n",
    "\n",
    "        if number_of_days <= 20:\n",
    "            \n",
    "            print(\"Number of days: \", number_of_days)\n",
    "            \n",
    "            while True:      \n",
    "            # Define empty list and weight index for user input\n",
    "                weights_for_ma = []\n",
    "                weight_index = 1\n",
    "        \n",
    "                # Iterate through the user-stated days\n",
    "                for number in range(number_of_days):\n",
    "                    \n",
    "                    # Check for each user-input number that it is a float.\n",
    "                    while True:\n",
    "                        try:\n",
    "                            # If wrong, user needs to re-enter the float.\n",
    "                            input_weight = float(input(f\"Please enter weight #{weight_index}.\"))\n",
    "                                \n",
    "                            if input_weight >= 0:\n",
    "                                weights_for_ma.append(input_weight)\n",
    "                                weight_index += 1\n",
    "                                print(f\"Current total amount of weights: {sum(weights_for_ma)}\")\n",
    "                                break # breaks out of innermost while loop and user can input the next number.\n",
    "                                    \n",
    "                            else:\n",
    "                                print(\"Invalid input. Entered float must be positive.\")\n",
    "                                \n",
    "                        except:\n",
    "                            print(\"Invalid input. Please input your weight as a float number.\")\n",
    "\n",
    "                if int(sum(weights_for_ma)) == 1:\n",
    "                    print(\"Nice. Seems to be equal to 1!\")\n",
    "                    break\n",
    "                \n",
    "                else:\n",
    "                    weights_for_ma = []\n",
    "                    weight_index = 1\n",
    "                    print(\"Sum of weights must be equal to 1. Please re-enter your weights.\")\n",
    "              \n",
    "            break # Input fits our further procedure!\n",
    "            \n",
    "        else:\n",
    "            print(\"Invalid input. Please input less or equal to 20 and larger than 1.\") # Try again\n",
    "    \n",
    "    except:\n",
    "        print(\"(1) Invalid input. Please input the number of days as an integer.\")"
   ]
  },
  {
   "cell_type": "code",
   "execution_count": 1,
   "metadata": {},
   "outputs": [
    {
     "name": "stdout",
     "output_type": "stream",
     "text": [
      "(1) Invalid input. Please input the number of days as an integer.\n",
      "Number of days:  4\n",
      "Current total amount of weights: 4.0\n",
      "Invalid input. Please input your weight as a float number.\n"
     ]
    }
   ],
   "source": [
    "number_of_days = 0\n",
    "\n",
    "while True:\n",
    "    \n",
    "    try:\n",
    "        number_of_days = int(input(\"How many days for your custom weighted average? (up to 20 days) \"))\n",
    "\n",
    "        if number_of_days <= 20:\n",
    "            \n",
    "            print(\"Number of days: \", number_of_days)\n",
    "            \n",
    "            while True:      \n",
    "            # Define empty list and weight index for user input\n",
    "                weights_for_ma = []\n",
    "                weight_index = 1\n",
    "        \n",
    "                # Iterate through the user-stated days\n",
    "                for number in range(number_of_days):\n",
    "                    \n",
    "                    # Check for each user-input number that it is a float.\n",
    "                    while True:\n",
    "                        try:\n",
    "                            # If wrong, user needs to re-enter the float.\n",
    "                            input_weight = float(input(f\"Please enter weight #{weight_index}.\"))\n",
    "                                \n",
    "                            if input_weight >= 0:\n",
    "                                weights_for_ma.append(input_weight)\n",
    "                                weight_index += 1\n",
    "                                print(f\"Current total amount of weights: {round(sum(weights_for_ma), 2)}\")\n",
    "                                break # breaks out of innermost while loop and user can input the next number.\n",
    "                                    \n",
    "                            else:\n",
    "                                print(\"Invalid input. Entered float must be positive.\")\n",
    "                                \n",
    "                        except:\n",
    "                            print(\"Invalid input. Please input your weight as a float number.\")\n",
    "\n",
    "                if int(sum(weights_for_ma)) == 1:\n",
    "                    print(\"Nice. Seems to be equal to 1!\")\n",
    "                    break\n",
    "                \n",
    "                else:\n",
    "                    weights_for_ma = []\n",
    "                    weight_index = 1\n",
    "                    print(\"Sum of weights must be equal to 1. Please re-enter your weights.\")\n",
    "              \n",
    "            break # Input fits our further procedure!\n",
    "            \n",
    "        else:\n",
    "            print(\"Invalid input. Please input less or equal to 20 and larger than 1.\") # Try again\n",
    "    \n",
    "    except:\n",
    "        print(\"(1) Invalid input. Please input the number of days as an integer.\")"
   ]
  },
  {
   "cell_type": "code",
   "execution_count": 2,
   "metadata": {},
   "outputs": [
    {
     "name": "stdout",
     "output_type": "stream",
     "text": [
      "Selected number of days: 3\n",
      "Current total amount of weights: 0.1\n",
      "Current total amount of weights: 0.4\n",
      "Current total amount of weights: 1.0\n",
      "Nice. Seems to be equal to 1!\n"
     ]
    }
   ],
   "source": [
    "while True:\n",
    "    \n",
    "    try:\n",
    "        number_of_days = int(input(\"How many days for your custom weighted average? (up to 20 days) \"))\n",
    "\n",
    "        if number_of_days <= 20 and number_of_days > 0:\n",
    "            \n",
    "            print(f\"Selected number of days: {number_of_days}\")\n",
    "            \n",
    "            while True:      \n",
    "            # Define empty list and weight index for user input\n",
    "                weights_for_ma = []\n",
    "                weight_index = 1\n",
    "        \n",
    "                # Iterate through the user-stated days\n",
    "                for number in range(number_of_days):\n",
    "                    \n",
    "                    # Check for each user-input number that it is a float.\n",
    "                    while True:\n",
    "                        try:\n",
    "                            # If wrong, user needs to re-enter the float.\n",
    "                            input_weight = float(input(f\"Please enter weight #{weight_index}.\"))\n",
    "                                \n",
    "                            if input_weight >= 0 and input_weight <= 1:\n",
    "                                weights_for_ma.append(input_weight)\n",
    "                                weight_index += 1\n",
    "                                print(f\"Current total amount of weights: {round(sum(weights_for_ma), 2)}\")\n",
    "                                break # breaks out of innermost while loop and user can input the next number.\n",
    "                                    \n",
    "                            else:\n",
    "                                print(\"Invalid input. Entered float must be positive and between 0 and 1.\")\n",
    "                                \n",
    "                        except:\n",
    "                            print(\"Invalid input. Please input your weight as a float number.\")\n",
    "\n",
    "                if int(sum(weights_for_ma)) == 1:\n",
    "                    print(\"Nice. Seems to be equal to 1!\")\n",
    "                    break\n",
    "                \n",
    "                else:\n",
    "                    print(\"Sum of weights must be equal to 1. Please re-enter your weights.\")\n",
    "              \n",
    "            break # Input fits our further procedure!\n",
    "            \n",
    "        else:\n",
    "            print(\"Invalid input. Please input less or equal to 20 and larger than 1.\") # Try again\n",
    "    \n",
    "    except:\n",
    "        print(\"(1) Invalid input. Please input the number of days as an integer.\")"
   ]
  },
  {
   "cell_type": "code",
   "execution_count": 1,
   "metadata": {},
   "outputs": [
    {
     "name": "stdout",
     "output_type": "stream",
     "text": [
      "not days\n",
      "not days\n",
      "not days\n",
      "not days\n",
      "not days\n",
      "not days\n",
      "not days\n",
      "not days\n",
      "not days\n",
      "not days\n",
      "not days\n",
      "not days\n",
      "not days\n",
      "not days\n",
      "not days\n",
      "not days\n"
     ]
    }
   ],
   "source": [
    "while True:\n",
    "    try:\n",
    "        n = int(input(\"days\"))\n",
    "        break\n",
    "    except:\n",
    "        print(\"not days\")\n",
    "    "
   ]
  },
  {
   "cell_type": "code",
   "execution_count": null,
   "metadata": {},
   "outputs": [],
   "source": []
  }
 ],
 "metadata": {
  "interpreter": {
   "hash": "40d3a090f54c6569ab1632332b64b2c03c39dcf918b08424e98f38b5ae0af88f"
  },
  "kernelspec": {
   "display_name": "Python 3.8.8 64-bit ('base': conda)",
   "language": "python",
   "name": "python3"
  },
  "language_info": {
   "codemirror_mode": {
    "name": "ipython",
    "version": 3
   },
   "file_extension": ".py",
   "mimetype": "text/x-python",
   "name": "python",
   "nbconvert_exporter": "python",
   "pygments_lexer": "ipython3",
   "version": "3.8.11"
  },
  "orig_nbformat": 4
 },
 "nbformat": 4,
 "nbformat_minor": 2
}
